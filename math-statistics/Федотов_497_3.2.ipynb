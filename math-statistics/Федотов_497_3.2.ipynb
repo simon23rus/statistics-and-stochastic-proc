{
 "cells": [
  {
   "cell_type": "markdown",
   "metadata": {},
   "source": [
    "# Не доделал, не успел дописать"
   ]
  },
  {
   "cell_type": "code",
   "execution_count": 3,
   "metadata": {
    "collapsed": true
   },
   "outputs": [],
   "source": [
    "import pandas as pd\n",
    "import matplotlib.pyplot as plt\n",
    "import scipy\n",
    "import scipy.stats\n",
    "import numpy as np\n",
    "import random\n",
    "import math\n",
    "%matplotlib inline"
   ]
  },
  {
   "cell_type": "code",
   "execution_count": 2,
   "metadata": {
    "collapsed": true
   },
   "outputs": [],
   "source": [
    "symbols = ['0','1','2','3','4','5','6','7','8','9','a','b','c','d','e','f']\n",
    "def color_generator() :\n",
    "    col = '#'\n",
    "    for i in range(6) :\n",
    "        col += (symbols[random.randint(0, 15)])\n",
    "    return col"
   ]
  },
  {
   "cell_type": "code",
   "execution_count": 1,
   "metadata": {
    "collapsed": true
   },
   "outputs": [],
   "source": [
    "N = 1000\n",
    "m = 50\n",
    "a =  3\n",
    "sigma = 2.1"
   ]
  },
  {
   "cell_type": "code",
   "execution_count": 4,
   "metadata": {
    "collapsed": true
   },
   "outputs": [],
   "source": [
    "binomial_const = 13.8071"
   ]
  },
  {
   "cell_type": "markdown",
   "metadata": {},
   "source": [
    "Cоздадим наследника класса абсолютно-непрерывных распределений, чтобы сгенерить параметр"
   ]
  },
  {
   "cell_type": "code",
   "execution_count": 5,
   "metadata": {
    "collapsed": false
   },
   "outputs": [],
   "source": [
    "class given_distribution(scipy.stats.rv_continuous):\n",
    "    def _pdf(self, x):\n",
    "        return binomial_const * x ** 2\n",
    "given = given_distribution(a= 0.32, b= 0.63, name='given')"
   ]
  },
  {
   "cell_type": "markdown",
   "metadata": {},
   "source": [
    "Генерим недостающие параметры для нашей выборки"
   ]
  },
  {
   "cell_type": "code",
   "execution_count": 8,
   "metadata": {
    "collapsed": false,
    "scrolled": true
   },
   "outputs": [
    {
     "data": {
      "text/plain": [
       "0.43133554654697553"
      ]
     },
     "execution_count": 8,
     "metadata": {},
     "output_type": "execute_result"
    }
   ],
   "source": [
    "binomial_p = given.rvs(size = 1)[0]\n",
    "binomial_p"
   ]
  },
  {
   "cell_type": "code",
   "execution_count": 27,
   "metadata": {
    "collapsed": false
   },
   "outputs": [
    {
     "data": {
      "text/plain": [
       "2.9631991715186121"
      ]
     },
     "execution_count": 27,
     "metadata": {},
     "output_type": "execute_result"
    }
   ],
   "source": [
    "norm_a = scipy.stats.expon.rvs(2.9 ,size = 1)[0]\n",
    "norm_a"
   ]
  },
  {
   "cell_type": "code",
   "execution_count": 31,
   "metadata": {
    "collapsed": false
   },
   "outputs": [
    {
     "data": {
      "text/plain": [
       "6.7311989161393049"
      ]
     },
     "execution_count": 31,
     "metadata": {},
     "output_type": "execute_result"
    }
   ],
   "source": [
    "norm_sigma = scipy.stats.expon.rvs(6.6 ,size = 1)[0]\n",
    "norm_sigma"
   ]
  },
  {
   "cell_type": "code",
   "execution_count": 32,
   "metadata": {
    "collapsed": true
   },
   "outputs": [],
   "source": [
    "binomial = scipy.stats.binom.rvs(50, binomial_p, size = N)\n",
    "normal_a = scipy.stats.norm.rvs(size = N , loc = norm_a, scale = 2.1)\n",
    "normal_sigma = scipy.stats.norm.rvs(size = N , loc = 3, scale = norm_sigma)"
   ]
  },
  {
   "cell_type": "markdown",
   "metadata": {},
   "source": [
    "Данные оценки являются эффективными, это можно проверить, подставив их в неравенсто Рао-Крамера"
   ]
  },
  {
   "cell_type": "markdown",
   "metadata": {},
   "source": [
    "The best of the best\n",
    "\n",
    "$\\frac{\\overline X}{m}$ for binom\n",
    "\n",
    "$\\overline X$ for norm without a\n",
    "\n",
    "$\\frac{\\sum{(x_{i} - a)} ^ 2}{n} $ for normal"
   ]
  },
  {
   "cell_type": "markdown",
   "metadata": {},
   "source": [
    "Cделаем предпосчет суммы для эффективной оценки $\\sigma^2$"
   ]
  },
  {
   "cell_type": "code",
   "execution_count": 35,
   "metadata": {
    "collapsed": false
   },
   "outputs": [
    {
     "data": {
      "text/plain": [
       "46367.373125274004"
      ]
     },
     "execution_count": 35,
     "metadata": {},
     "output_type": "execute_result"
    }
   ],
   "source": [
    "sums = []\n",
    "current_sum = 0\n",
    "for i in xrange(N) :\n",
    "    current_sum += (normal_sigma[i] - float(a)) ** 2\n",
    "    sums.append(current_sum)\n",
    "current_sum"
   ]
  },
  {
   "cell_type": "code",
   "execution_count": 44,
   "metadata": {
    "collapsed": false,
    "scrolled": true
   },
   "outputs": [
    {
     "name": "stdout",
     "output_type": "stream",
     "text": [
      "CPU times: user 2 µs, sys: 0 ns, total: 2 µs\n",
      "Wall time: 4.05 µs\n"
     ]
    }
   ],
   "source": [
    "%%time\n",
    "binomial_effective_eval = [np.mean(binomial[:(i + 1)]) / float(m) for i in xrange(N)]\n",
    "norm_a_effective_eval = [np.mean(normal_a[:(i + 1)]) for i in xrange(N)]\n",
    "norm_sigma_effective_eval = [sums[i] / float(i + 1) for i in xrange(N)]"
   ]
  },
  {
   "cell_type": "code",
   "execution_count": 46,
   "metadata": {
    "collapsed": true
   },
   "outputs": [],
   "source": [
    "bootstrap_number = 500"
   ]
  },
  {
   "cell_type": "markdown",
   "metadata": {},
   "source": [
    "Сгененрируем бутстрепные выборки"
   ]
  },
  {
   "cell_type": "code",
   "execution_count": 47,
   "metadata": {
    "collapsed": false,
    "scrolled": true
   },
   "outputs": [
    {
     "name": "stdout",
     "output_type": "stream",
     "text": [
      "CPU times: user 3 µs, sys: 0 ns, total: 3 µs\n",
      "Wall time: 6.91 µs\n"
     ]
    }
   ],
   "source": [
    "%time\n",
    "bootstrap_selections_bin = []\n",
    "bootstrap_selections_norm_a = []\n",
    "bootstrap_selections_norm_b = []\n",
    "\n",
    "for j in xrange(N) :\n",
    "    bootstrap_selections_bin.append([scipy.stats.binom.rvs(m, binomial_effective_eval[j], size = j + 1) for iterat in xrange(bootstrap_number)])\n",
    "    bootstrap_selections_norm_a.append([scipy.stats.norm.rvs(size = j + 1, loc = norm_a_effective_eval[j], scale = 2.1) for iterat in xrange(bootstrap_number)])\n",
    "    bootstrap_selections_norm_b.append([scipy.stats.norm.rvs(size = j + 1, loc = 3, scale = norm_sigma_effective_eval[j]) for iterat in xrange(bootstrap_number)])"
   ]
  },
  {
   "cell_type": "markdown",
   "metadata": {},
   "source": [
    "Найдем оценки для бутсрепных выборок"
   ]
  },
  {
   "cell_type": "code",
   "execution_count": 48,
   "metadata": {
    "collapsed": false
   },
   "outputs": [
    {
     "name": "stdout",
     "output_type": "stream",
     "text": [
      "CPU times: user 2 µs, sys: 1 µs, total: 3 µs\n",
      "Wall time: 23.8 µs\n"
     ]
    }
   ],
   "source": [
    "%time\n",
    "bootstrap_bin_eval = []\n",
    "for j in xrange(N) :\n",
    "    bootstrap_bin_eval.append(map(lambda selec: np.mean(selec) / float(len(selec)), bootstrap_selections_bin[j]))\n",
    "bootstrap_norm_a_eval = []\n",
    "for j in xrange(N) :\n",
    "    bootstrap_norm_a_eval.append(map(lambda selec: np.mean(selec), bootstrap_selections_norm_a[j]))\n"
   ]
  },
  {
   "cell_type": "code",
   "execution_count": 50,
   "metadata": {
    "collapsed": false
   },
   "outputs": [
    {
     "data": {
      "text/plain": [
       "(1000, 500)"
      ]
     },
     "execution_count": 50,
     "metadata": {},
     "output_type": "execute_result"
    }
   ],
   "source": [
    "np.shape(bootstrap_selections_norm_b)"
   ]
  },
  {
   "cell_type": "code",
   "execution_count": 52,
   "metadata": {
    "collapsed": false
   },
   "outputs": [
    {
     "name": "stdout",
     "output_type": "stream",
     "text": [
      "CPU times: user 2min 39s, sys: 6.71 s, total: 2min 46s\n",
      "Wall time: 2min 52s\n"
     ]
    }
   ],
   "source": [
    "%%time\n",
    "bootstrap_norm_b_eval = []\n",
    "for j in xrange(N) :\n",
    "    boots_evals = []\n",
    "    for i in xrange(bootstrap_number) :\n",
    "        selec = bootstrap_selections_norm_b[j][i]\n",
    "        summa = sum(map(lambda elem : (elem - a) ** 2, selec)) / float(j + 1)\n",
    "        boots_evals.append(summa)\n",
    "    bootstrap_norm_b_eval.append(boots_evals)\n"
   ]
  },
  {
   "cell_type": "markdown",
   "metadata": {},
   "source": [
    "Найдем бутстрепную оценку дисперсии"
   ]
  },
  {
   "cell_type": "code",
   "execution_count": 54,
   "metadata": {
    "collapsed": true
   },
   "outputs": [],
   "source": [
    "bin_boots_disp = []\n",
    "for j in xrange(N) :\n",
    "    bin_boots_disp.append(scipy.stats.moment(bootstrap_bin_eval[j], 2))"
   ]
  },
  {
   "cell_type": "code",
   "execution_count": 55,
   "metadata": {
    "collapsed": true
   },
   "outputs": [],
   "source": [
    "norm_a_disp = []\n",
    "for j in xrange(N) :\n",
    "    norm_a_disp.append(scipy.stats.moment(bootstrap_norm_a_eval[j], 2))"
   ]
  },
  {
   "cell_type": "code",
   "execution_count": 56,
   "metadata": {
    "collapsed": true
   },
   "outputs": [],
   "source": [
    "norm_b_disp = []\n",
    "for j in xrange(N) :\n",
    "    norm_b_disp.append(scipy.stats.moment(bootstrap_norm_b_eval[j], 2))"
   ]
  },
  {
   "cell_type": "markdown",
   "metadata": {},
   "source": [
    "## Построим графики, полученных нами результатов"
   ]
  },
  {
   "cell_type": "code",
   "execution_count": 77,
   "metadata": {
    "collapsed": false,
    "scrolled": true
   },
   "outputs": [
    {
     "data": {
      "image/png": "[encoded data removed]",
      "text/plain": [
       "<matplotlib.figure.Figure at 0x290195b50>"
      ]
     },
     "metadata": {},
     "output_type": "display_data"
    }
   ],
   "source": [
    "plt.plot(xrange(N), bin_boots_disp)\n",
    "plt.ylim(0, 0.000001)\n",
    "plt.show()"
   ]
  },
  {
   "cell_type": "code",
   "execution_count": 82,
   "metadata": {
    "collapsed": false,
    "scrolled": false
   },
   "outputs": [
    {
     "data": {
      "image/png": "[encoded data removed]",
      "text/plain": [
       "<matplotlib.figure.Figure at 0x29051c890>"
      ]
     },
     "metadata": {},
     "output_type": "display_data"
    }
   ],
   "source": [
    "plt.plot(xrange(N), norm_a_disp)\n",
    "plt.ylim(0, 0.1)\n",
    "plt.show()"
   ]
  },
  {
   "cell_type": "code",
   "execution_count": 90,
   "metadata": {
    "collapsed": false
   },
   "outputs": [
    {
     "data": {
      "image/png": "[encoded data removed]",
      "text/plain": [
       "<matplotlib.figure.Figure at 0x290ea9c50>"
      ]
     },
     "metadata": {},
     "output_type": "display_data"
    }
   ],
   "source": [
    "plt.plot(xrange(N), norm_b_disp)\n",
    "plt.show()"
   ]
  }
 ],
 "metadata": {
  "kernelspec": {
   "display_name": "Python 2",
   "language": "python",
   "name": "python2"
  },
  "language_info": {
   "codemirror_mode": {
    "name": "ipython",
    "version": 2
   },
   "file_extension": ".py",
   "mimetype": "text/x-python",
   "name": "python",
   "nbconvert_exporter": "python",
   "pygments_lexer": "ipython2",
   "version": "2.7.10"
  }
 },
 "nbformat": 4,
 "nbformat_minor": 0
}
