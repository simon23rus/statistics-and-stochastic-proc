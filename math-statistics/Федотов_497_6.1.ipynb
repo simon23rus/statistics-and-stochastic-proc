{
 "cells": [
  {
   "cell_type": "code",
   "execution_count": 9,
   "metadata": {
    "collapsed": false
   },
   "outputs": [],
   "source": [
    "import pandas as pd\n",
    "import matplotlib.pyplot as plt\n",
    "import scipy\n",
    "import scipy.stats\n",
    "import numpy as np\n",
    "import math\n",
    "import seaborn as sns\n",
    "import sklearn\n",
    "from sklearn import datasets\n",
    "%matplotlib inline"
   ]
  },
  {
   "cell_type": "markdown",
   "metadata": {},
   "source": [
    "$\\xi_{i}$ время меж- ду 𝑖-м моментом выходом из строя сервера и (𝑖+1)-м. \n",
    "Предполагается, что величины $\\xi_{i}$ независимы в совокупности и имеют экспоненциальное распределение с парамет- ром $\\lambda$ Т.е. $\\xi_{i} \\sim exp(\\lambda)$"
   ]
  },
  {
   "cell_type": "code",
   "execution_count": 10,
   "metadata": {
    "collapsed": false
   },
   "outputs": [],
   "source": [
    "lambda_exp = 0.213\n",
    "t_0 = 1\n",
    "t = 60"
   ]
  },
  {
   "cell_type": "markdown",
   "metadata": {},
   "source": [
    "Обозначим $𝑁_{t}$ — количество серверов, которые вышли из строя к моменту времени 𝑡 (в начальный момент времени $N_{0}$ = 0). В курсе случайных процессов будет доказано, что для любых 𝑠 < 𝑡 величина $N_{t} - N_{s} \\sim Pois(\\lambda(t − s))$ и независима с $N_{s}$. При этом $N_{t}$ как функция от 𝑡 будет называться пуассоновским процессом интенсивности 𝜆."
   ]
  },
  {
   "cell_type": "markdown",
   "metadata": {},
   "source": [
    "Нам нужно найти $E(N_{t} | N_{s})$ По линейности условного матожидания $E(N_{t} | N_{s})  = E(N_{t} - N_{s} | N_{s}) + E(N_{s} | N_{s})$ Далее, т.к. $N_{t} - N_{s} \\perp\\!\\!\\!\\perp N_{s}$ и т.к. $N_{s} $измерима относительно сигма алгебры порожденной $N_{s}$ , то наше условное матожидание равно E = $E(N_{t} - N_{s}) + N_{t}$\n",
    "По условию сказано, что $N_{t} - N_{s}$ из пуассоновского распределения с параметром $(λ(t−s))$ А мы знаем, что у этой случайной величины E($N_{t} - N_{s}$) = $\\lambda \\cdot (t - s)$\n",
    "### Итого, наше условное матожидание равно E = $\\lambda \\cdot (t - s) + N_{s}$ "
   ]
  },
  {
   "cell_type": "code",
   "execution_count": 11,
   "metadata": {
    "collapsed": false
   },
   "outputs": [],
   "source": [
    "break_time = pd.read_csv('/Users/semenfedotov/Desktop/MathStats/6.1.txt')"
   ]
  },
  {
   "cell_type": "code",
   "execution_count": 12,
   "metadata": {
    "collapsed": false
   },
   "outputs": [],
   "source": [
    "break_time = np.asarray(break_time['0.213'])"
   ]
  },
  {
   "cell_type": "code",
   "execution_count": 13,
   "metadata": {
    "collapsed": false
   },
   "outputs": [
    {
     "data": {
      "text/plain": [
       "array([  5.473,   5.878,  13.314,  16.023,  17.636,  21.098,  24.429,\n",
       "        26.512,  26.941,  27.613,  28.751,  37.977,  42.647,  55.828,\n",
       "        59.729])"
      ]
     },
     "execution_count": 13,
     "metadata": {},
     "output_type": "execute_result"
    }
   ],
   "source": [
    "break_time"
   ]
  },
  {
   "cell_type": "code",
   "execution_count": 15,
   "metadata": {
    "collapsed": true
   },
   "outputs": [],
   "source": [
    "def conditional_expectation(t, s, lambda_parameter = lambda_exp) :\n",
    "    if s > 59.729 :\n",
    "        return lambda_parameter * (t - s) + len(break_time)\n",
    "    return lambda_parameter * (t - s) + np.where(break_time >= s)[0][0]"
   ]
  },
  {
   "cell_type": "code",
   "execution_count": 16,
   "metadata": {
    "collapsed": true
   },
   "outputs": [],
   "source": [
    "times = range(t_0, t + 1)"
   ]
  },
  {
   "cell_type": "code",
   "execution_count": 17,
   "metadata": {
    "collapsed": false
   },
   "outputs": [
    {
     "name": "stdout",
     "output_type": "stream",
     "text": [
      "time\t E\n",
      "  1 \t12.567\n",
      "  2 \t12.354\n",
      "  3 \t12.141\n",
      "  4 \t11.928\n",
      "  5 \t11.715\n",
      "  6 \t13.502\n",
      "  7 \t13.289\n",
      "  8 \t13.076\n",
      "  9 \t12.863\n",
      "  10 \t12.65\n",
      "  11 \t12.437\n",
      "  12 \t12.224\n",
      "  13 \t12.011\n",
      "  14 \t12.798\n",
      "  15 \t12.585\n",
      "  16 \t12.372\n",
      "  17 \t13.159\n",
      "  18 \t13.946\n",
      "  19 \t13.733\n",
      "  20 \t13.52\n",
      "  21 \t13.307\n",
      "  22 \t14.094\n",
      "  23 \t13.881\n",
      "  24 \t13.668\n",
      "  25 \t14.455\n",
      "  26 \t14.242\n",
      "  27 \t16.029\n",
      "  28 \t16.816\n",
      "  29 \t17.603\n",
      "  30 \t17.39\n",
      "  31 \t17.177\n",
      "  32 \t16.964\n",
      "  33 \t16.751\n",
      "  34 \t16.538\n",
      "  35 \t16.325\n",
      "  36 \t16.112\n",
      "  37 \t15.899\n",
      "  38 \t16.686\n",
      "  39 \t16.473\n",
      "  40 \t16.26\n",
      "  41 \t16.047\n",
      "  42 \t15.834\n",
      "  43 \t16.621\n",
      "  44 \t16.408\n",
      "  45 \t16.195\n",
      "  46 \t15.982\n",
      "  47 \t15.769\n",
      "  48 \t15.556\n",
      "  49 \t15.343\n",
      "  50 \t15.13\n",
      "  51 \t14.917\n",
      "  52 \t14.704\n",
      "  53 \t14.491\n",
      "  54 \t14.278\n",
      "  55 \t14.065\n",
      "  56 \t14.852\n",
      "  57 \t14.639\n",
      "  58 \t14.426\n",
      "  59 \t14.213\n",
      "  60 \t15.0\n"
     ]
    }
   ],
   "source": [
    "print 'time\\t E'\n",
    "for time in times : \n",
    "    print ' ', time, '\\t', conditional_expectation(t, time)"
   ]
  },
  {
   "cell_type": "markdown",
   "metadata": {},
   "source": [
    "Построим для наглядности график"
   ]
  },
  {
   "cell_type": "code",
   "execution_count": 27,
   "metadata": {
    "collapsed": false,
    "scrolled": true
   },
   "outputs": [
    {
     "data": {
      "image/png": "[encoded data removed]",
      "text/plain": [
       "<matplotlib.figure.Figure at 0x10a438410>"
      ]
     },
     "metadata": {},
     "output_type": "display_data"
    }
   ],
   "source": [
    "plt.figure(figsize=(15, 5))\n",
    "\n",
    "plt.plot(super_time, [conditional_expectation(t, timka) for timka in super_time], color = 'magenta')\n",
    "plt.xticks(np.arange(0, 61, 1))\n",
    "plt.yticks(np.arange(10, 19, 1))\n",
    "plt.show()"
   ]
  },
  {
   "cell_type": "code",
   "execution_count": null,
   "metadata": {
    "collapsed": true
   },
   "outputs": [],
   "source": []
  }
 ],
 "metadata": {
  "kernelspec": {
   "display_name": "Python 2",
   "language": "python",
   "name": "python2"
  },
  "language_info": {
   "codemirror_mode": {
    "name": "ipython",
    "version": 2
   },
   "file_extension": ".py",
   "mimetype": "text/x-python",
   "name": "python",
   "nbconvert_exporter": "python",
   "pygments_lexer": "ipython2",
   "version": "2.7.11"
  }
 },
 "nbformat": 4,
 "nbformat_minor": 0
}
