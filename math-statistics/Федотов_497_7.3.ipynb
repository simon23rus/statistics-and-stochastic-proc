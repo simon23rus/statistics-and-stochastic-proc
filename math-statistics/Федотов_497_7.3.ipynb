{
 "cells": [
  {
   "cell_type": "code",
   "execution_count": 1,
   "metadata": {
    "collapsed": true
   },
   "outputs": [],
   "source": [
    "import pandas as pd\n",
    "import numpy as np\n",
    "import scipy\n",
    "import random\n",
    "import scipy.stats\n",
    "import matplotlib.pyplot as plt\n",
    "%matplotlib inline"
   ]
  },
  {
   "cell_type": "code",
   "execution_count": 2,
   "metadata": {
    "collapsed": true
   },
   "outputs": [],
   "source": [
    "symbols = ['0','1','2','3','4','5','6','7','8','9','A','B','C','D','E','F']\n",
    "def color_generator():\n",
    "    color = '#'\n",
    "    for i in range(6):\n",
    "        index = 0\n",
    "        for j in xrange(1000) :\n",
    "            index = random.randint(0, 15)\n",
    "        color += (symbols[index])\n",
    "    return color"
   ]
  },
  {
   "cell_type": "markdown",
   "metadata": {},
   "source": [
    "Сгенерируем выборку из стандартного распределения Коши. распределение Коши плохо тем, что имеет много выбросов!"
   ]
  },
  {
   "cell_type": "code",
   "execution_count": 22,
   "metadata": {
    "collapsed": false
   },
   "outputs": [
    {
     "data": {
      "image/png": "[encoded data removed]",
      "text/plain": [
       "<matplotlib.figure.Figure at 0x10a3b39d0>"
      ]
     },
     "metadata": {},
     "output_type": "display_data"
    }
   ],
   "source": [
    "cauchy = scipy.stats.cauchy.rvs(size=100)\n",
    "plt.hist(cauchy, bins = 50,color=color_generator())\n",
    "plt.show()"
   ]
  },
  {
   "cell_type": "markdown",
   "metadata": {},
   "source": [
    "Предположим, что у нас выборка из нормального распределения N($\\theta$, 1)"
   ]
  },
  {
   "cell_type": "code",
   "execution_count": 23,
   "metadata": {
    "collapsed": false
   },
   "outputs": [
    {
     "data": {
      "text/plain": [
       "-678.35152793621751"
      ]
     },
     "execution_count": 23,
     "metadata": {},
     "output_type": "execute_result"
    }
   ],
   "source": [
    "sum(cauchy)"
   ]
  },
  {
   "cell_type": "markdown",
   "metadata": {},
   "source": [
    "$\\theta \\sim N(0, \\frac{1}{16})$ Взяли априорное распределение таким, т.к. мы пользуемся правилом 2 сигм:\n",
    "<img src=\"https://upload.wikimedia.org/wikipedia/commons/3/37/Standard_deviation_diagram_%28decimal_comma%29.svg\">\n",
    "Взяв матожидание $\\theta$ нулевым, получим $P(0 - 2\\sigma < \\theta < 0 + 2\\sigma) >= 0.95 $\n",
    "\n",
    "А нам надо$ P(|{\\theta}| < \\frac{1}{2}) >= 0.95 .$ 2$\\sigma = \\frac{1}{2} \\to \\sigma = \\frac{1}{4}$\n",
    "\n",
    "\n",
    "... 10 minutes later ...\n",
    "Считал интеграл вручную, получил оценку совпадающую с оценкой в задаче 7.1\n",
    "\n",
    "$\\hat{\\theta} = \\frac{\\sum_{1}^{n}{X_{i}}}{n + 16}$"
   ]
  },
  {
   "cell_type": "markdown",
   "metadata": {},
   "source": [
    "Напишем функцию, которая визуализириует нам нашу оценку\n",
    "<ul>\n",
    "    <li>Считаем массив частичных сумм</li>\n",
    "    <li>Считаем $\\hat{\\theta}$</li>\n",
    "    <li>Далее рисуем сам график</li>\n",
    "<ul>"
   ]
  },
  {
   "cell_type": "code",
   "execution_count": 48,
   "metadata": {
    "collapsed": false
   },
   "outputs": [],
   "source": [
    "def draw_eval():\n",
    "    selection = scipy.stats.cauchy.rvs(size=100)\n",
    "    sumka = np.cumsum(selection)\n",
    "    means = sumka\n",
    "    for i in range(len(means)):\n",
    "        means[i] = means[i] / float(i + 1)\n",
    "    evals = [np.abs(sumka[i] / float(i + 1. + 16.)) for i in range(len(selection))]\n",
    "    print sumka[-1]\n",
    "    dots = range(1, len(selection) + 1)\n",
    "    plt.plot(dots, map(abs, means), '--', color=color_generator(), label='MLE')\n",
    "    plt.title('MLE evaluate for $\\\\theta$')\n",
    "    plt.show()\n",
    "    plt.plot(dots, evals, color=color_generator(), label='Bayes')\n",
    "    plt.title('Bayes evaluate for $\\\\theta$')\n",
    "    plt.show()"
   ]
  },
  {
   "cell_type": "markdown",
   "metadata": {},
   "source": [
    "Оценкой максимального правдоподобия для N($\\theta$, 1) - выборочное среднее"
   ]
  },
  {
   "cell_type": "code",
   "execution_count": 52,
   "metadata": {
    "collapsed": false
   },
   "outputs": [
    {
     "name": "stdout",
     "output_type": "stream",
     "text": [
      "-0.414385767697\n"
     ]
    },
    {
     "data": {
      "image/png": "[encoded data removed]",
      "text/plain": [
       "<matplotlib.figure.Figure at 0x109f8a310>"
      ]
     },
     "metadata": {},
     "output_type": "display_data"
    },
    {
     "data": {
      "image/png": "[encoded data removed]",
      "text/plain": [
       "<matplotlib.figure.Figure at 0x109f55910>"
      ]
     },
     "metadata": {},
     "output_type": "display_data"
    }
   ],
   "source": [
    "draw_eval()"
   ]
  },
  {
   "cell_type": "markdown",
   "metadata": {
    "collapsed": true
   },
   "source": [
    "Видим, что при неправильном угадывании распределения, мы получаем плохие оценки, а в случае ОМП очень плохую, которая сильно отличается от реального параметра $\\theta$ При перегенерации выборок мы будем получать всегда разные результаты\n",
    "В случае неверно угаданного распределения , мы видим, что Байесовская оценка выглядит намного лучше оценки максимального правдоподобия\n"
   ]
  },
  {
   "cell_type": "code",
   "execution_count": null,
   "metadata": {
    "collapsed": true
   },
   "outputs": [],
   "source": []
  }
 ],
 "metadata": {
  "kernelspec": {
   "display_name": "Python 2",
   "language": "python",
   "name": "python2"
  },
  "language_info": {
   "codemirror_mode": {
    "name": "ipython",
    "version": 2
   },
   "file_extension": ".py",
   "mimetype": "text/x-python",
   "name": "python",
   "nbconvert_exporter": "python",
   "pygments_lexer": "ipython2",
   "version": "2.7.11"
  }
 },
 "nbformat": 4,
 "nbformat_minor": 0
}
