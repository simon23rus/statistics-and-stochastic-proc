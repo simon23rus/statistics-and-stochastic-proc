{
 "cells": [
  {
   "cell_type": "code",
   "execution_count": 3,
   "metadata": {
    "collapsed": true
   },
   "outputs": [],
   "source": [
    "import pandas as pd\n",
    "import numpy as np\n",
    "import scipy\n",
    "import random\n",
    "import scipy.stats\n",
    "import matplotlib.pyplot as plt\n",
    "%matplotlib inline"
   ]
  },
  {
   "cell_type": "code",
   "execution_count": 4,
   "metadata": {
    "collapsed": true
   },
   "outputs": [],
   "source": [
    "symbols = ['0','1','2','3','4','5','6','7','8','9','A','B','C','D','E','F']\n",
    "def color_generator():\n",
    "    color = '#'\n",
    "    for i in range(6):\n",
    "        index = 0\n",
    "        for j in xrange(1000) :\n",
    "            index = random.randint(0, 15)\n",
    "        color += (symbols[index])\n",
    "    return color"
   ]
  },
  {
   "cell_type": "markdown",
   "metadata": {},
   "source": [
    "$\\xi_{i}$ время меж- ду 𝑖-м моментом выходом из строя сервера и (𝑖+1)-м. \n",
    "Предполагается, что величины $\\xi_{i}$ независимы в совокупности и имеют экспоненциальное распределение с парамет- ром $\\lambda$ Т.е. $\\xi_{i} \\sim exp(\\lambda)$\n",
    "Для экспоненциального распределения, сопряженное - гамма с параметрами $(\\alpha,\\, \\beta)$, а гиперпараметры апостериорного распределения будут  $\\alpha+n,\\, \\beta+\\sum_{i=1}^n x_i$\n",
    "\n",
    "<img src=\"https://upload.wikimedia.org/wikipedia/commons/e/e6/Gamma_distribution_pdf.svg\">"
   ]
  },
  {
   "cell_type": "code",
   "execution_count": 5,
   "metadata": {
    "collapsed": true
   },
   "outputs": [],
   "source": [
    "real_lambda = 0.213"
   ]
  },
  {
   "cell_type": "code",
   "execution_count": 6,
   "metadata": {
    "collapsed": true
   },
   "outputs": [],
   "source": [
    "break_time = pd.read_csv('/Users/semenfedotov/Desktop/MathStats/6.1.txt')"
   ]
  },
  {
   "cell_type": "code",
   "execution_count": 7,
   "metadata": {
    "collapsed": true
   },
   "outputs": [],
   "source": [
    "break_time = np.asarray(break_time['0.213'])"
   ]
  },
  {
   "cell_type": "code",
   "execution_count": 8,
   "metadata": {
    "collapsed": false,
    "scrolled": true
   },
   "outputs": [
    {
     "data": {
      "text/plain": [
       "array([  5.473,   5.878,  13.314,  16.023,  17.636,  21.098,  24.429,\n",
       "        26.512,  26.941,  27.613,  28.751,  37.977,  42.647,  55.828,\n",
       "        59.729])"
      ]
     },
     "execution_count": 8,
     "metadata": {},
     "output_type": "execute_result"
    }
   ],
   "source": [
    "break_time"
   ]
  },
  {
   "cell_type": "code",
   "execution_count": 18,
   "metadata": {
    "collapsed": true
   },
   "outputs": [],
   "source": [
    "events = [(t, True) for t in break_time] + [(i, False) for i in range(61)] \n",
    "events.sort()"
   ]
  },
  {
   "cell_type": "markdown",
   "metadata": {},
   "source": [
    "Выберем параметры априорного распределения таковыми, чтобы у плотности Гамма распределения не было горба(т.к. мы не знаем ничего, как распределена $\\lambda$), и возьмем $\\beta$, чтобы график плотности был гладким. Если брать параметр $\\alpha$ > 1, то в окрестности некоторой точки образуется горб. Из рисунка выше, нам подходит модель с априорным распределением $\\Gamma(1,2)$"
   ]
  },
  {
   "cell_type": "markdown",
   "metadata": {},
   "source": [
    "Оценкой $\\theta $ будет $\\frac{\\alpha + n - 1}{\\beta + \\sum {X_{i}}}$. Это в случае того, когда в качестве априорного распределения мы взяли $\\Gamma(\\alpha, \\beta)$"
   ]
  },
  {
   "cell_type": "markdown",
   "metadata": {},
   "source": [
    "Вот функция, с помощью которой мы будем оценивать параметр $\\theta$"
   ]
  },
  {
   "cell_type": "code",
   "execution_count": 19,
   "metadata": {
    "collapsed": true
   },
   "outputs": [],
   "source": [
    "def evaluater(alpha, beta, sumka):\n",
    "    return [(float(alpha) + float(i)) /(float(beta) + float(sumka[i])) for i in range(15)]"
   ]
  },
  {
   "cell_type": "markdown",
   "metadata": {},
   "source": [
    "Запишем нашу выборку из экспоненциального распределения(разности между поломками)"
   ]
  },
  {
   "cell_type": "code",
   "execution_count": 21,
   "metadata": {
    "collapsed": false
   },
   "outputs": [
    {
     "data": {
      "text/plain": [
       "[5.4729999999999999,\n",
       " 0.40499999999999936,\n",
       " 7.4360000000000008,\n",
       " 2.7089999999999996,\n",
       " 1.6129999999999995,\n",
       " 3.4620000000000033,\n",
       " 3.3309999999999995,\n",
       " 2.0829999999999949,\n",
       " 0.42900000000000205,\n",
       " 0.67200000000000415,\n",
       " 1.1379999999999946,\n",
       " 9.2259999999999991,\n",
       " 4.6700000000000017,\n",
       " 13.181000000000004,\n",
       " 3.9009999999999962]"
      ]
     },
     "execution_count": 21,
     "metadata": {},
     "output_type": "execute_result"
    }
   ],
   "source": [
    "selection = [break_time[0]]\n",
    "for i in range(len(break_time) - 1):\n",
    "    selection.append(break_time[i + 1] - break_time[i])\n",
    "selection"
   ]
  },
  {
   "cell_type": "markdown",
   "metadata": {},
   "source": [
    "Матожиданием будет $\\lambda * (t - s)$"
   ]
  },
  {
   "cell_type": "code",
   "execution_count": 47,
   "metadata": {
    "collapsed": true
   },
   "outputs": [],
   "source": [
    "lambdas = evaluater(1, 2, np.cumsum(selection))"
   ]
  },
  {
   "cell_type": "code",
   "execution_count": 48,
   "metadata": {
    "collapsed": false
   },
   "outputs": [],
   "source": [
    "def conditional_expectation(t, s, lambda_parameter) :\n",
    "    if s > 59.729 :\n",
    "        return lambda_parameter * (t - s) + len(break_time)\n",
    "    return lambda_parameter * (t - s) + np.where(break_time >= s)[0][0]"
   ]
  },
  {
   "cell_type": "code",
   "execution_count": 49,
   "metadata": {
    "collapsed": true
   },
   "outputs": [],
   "source": [
    "t = 60\n",
    "times = range(0, 61)"
   ]
  },
  {
   "cell_type": "markdown",
   "metadata": {},
   "source": [
    "Ну и выведем наши значения, либо Бреак, если была поломка, либо УМО, если поломки не было, УМО считаем с разными lambda, которые мы оценили"
   ]
  },
  {
   "cell_type": "code",
   "execution_count": 50,
   "metadata": {
    "collapsed": false
   },
   "outputs": [
    {
     "name": "stdout",
     "output_type": "stream",
     "text": [
      "Time\tE\n",
      "0\t0\n",
      "1\t0\n",
      "2\t0\n",
      "3\t0\n",
      "4\t0\n",
      "5\t0\n",
      "5.473\tbreak\n",
      "5.878\tbreak\n",
      "6\t15.709063214\n",
      "7\t15.455191673\n",
      "8\t15.201320132\n",
      "9\t14.947448591\n",
      "10\t14.69357705\n",
      "11\t14.439705509\n",
      "12\t14.185833968\n",
      "13\t13.931962427\n",
      "13.314\tbreak\n",
      "14\t12.0113621523\n",
      "15\t11.8154629751\n",
      "16\t11.6195637978\n",
      "16.023\tbreak\n",
      "17\t13.5433612606\n",
      "17.636\tbreak\n",
      "18\t15.6946424934\n",
      "19\t15.4400081483\n",
      "20\t15.1853738032\n",
      "21\t14.9307394581\n",
      "21.098\tbreak\n",
      "22\t15.8709845008\n",
      "23\t15.6112217508\n",
      "24\t15.3514590008\n",
      "24.429\tbreak\n",
      "25\t16.270119944\n",
      "26\t16.0052593742\n",
      "26.512\tbreak\n",
      "26.941\tbreak\n",
      "27\t19.2622576967\n",
      "27.613\tbreak\n",
      "28\t20.8060649039\n",
      "28.751\tbreak\n",
      "29\t22.0890702741\n",
      "30\t21.7313583298\n",
      "31\t21.3736463855\n",
      "32\t21.0159344412\n",
      "33\t20.6582224968\n",
      "34\t20.3005105525\n",
      "35\t19.9427986082\n",
      "36\t19.5850866638\n",
      "37\t19.2273747195\n",
      "37.977\tbreak\n",
      "38\t18.6037971834\n",
      "39\t18.3036245841\n",
      "40\t18.0034519849\n",
      "41\t17.7032793856\n",
      "42\t17.4031067864\n",
      "42.647\tbreak\n",
      "43\t17.9499406455\n",
      "44\t17.6587676664\n",
      "45\t17.3675946872\n",
      "46\t17.0764217081\n",
      "47\t16.7852487289\n",
      "48\t16.4940757498\n",
      "49\t16.2029027706\n",
      "50\t15.9117297915\n",
      "51\t15.6205568123\n",
      "52\t15.3293838332\n",
      "53\t15.038210854\n",
      "54\t14.7470378749\n",
      "55\t14.4558648957\n",
      "55.828\tbreak\n",
      "56\t14.9683890157\n",
      "57\t14.7262917618\n",
      "58\t14.4841945079\n",
      "59\t14.2420972539\n",
      "59.729\tbreak\n",
      "60\t15.0\n"
     ]
    }
   ],
   "source": [
    "i = -1\n",
    "print 'Time' + '\\tE'\n",
    "for event in events:\n",
    "    if event[1]:\n",
    "        print str(event[0]) + '\\tbreak'\n",
    "        i += 1\n",
    "    else:\n",
    "        if i != -1:\n",
    "            print str(event[0]) + '\\t' + str(conditional_expectation(t, event[0], lambdas[i]))\n",
    "        else:\n",
    "            print str(event[0]) + '\\t' + '0'"
   ]
  }
 ],
 "metadata": {
  "kernelspec": {
   "display_name": "Python 2",
   "language": "python",
   "name": "python2"
  },
  "language_info": {
   "codemirror_mode": {
    "name": "ipython",
    "version": 2
   },
   "file_extension": ".py",
   "mimetype": "text/x-python",
   "name": "python",
   "nbconvert_exporter": "python",
   "pygments_lexer": "ipython2",
   "version": "2.7.11"
  }
 },
 "nbformat": 4,
 "nbformat_minor": 0
}
