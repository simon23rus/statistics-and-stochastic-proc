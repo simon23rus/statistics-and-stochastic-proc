{
 "cells": [
  {
   "cell_type": "code",
   "execution_count": 1,
   "metadata": {
    "collapsed": true
   },
   "outputs": [],
   "source": [
    "import pandas as pd\n",
    "import numpy as np\n",
    "import scipy.stats\n",
    "import sklearn\n",
    "import scipy\n",
    "import sklearn.datasets\n",
    "import matplotlib.pyplot as plt\n",
    "import random\n",
    "%matplotlib inline"
   ]
  },
  {
   "cell_type": "code",
   "execution_count": 258,
   "metadata": {
    "collapsed": true
   },
   "outputs": [],
   "source": [
    "alpha = 0.95"
   ]
  },
  {
   "cell_type": "code",
   "execution_count": 290,
   "metadata": {
    "collapsed": true
   },
   "outputs": [],
   "source": [
    "symbols = ['0','1','2','3','4','5','6','7','8','9','A','B','C','D','E','F']\n",
    "def color_generator():\n",
    "    color = '#'\n",
    "    for i in range(6):\n",
    "        index = 0\n",
    "        for j in xrange(1000) :\n",
    "            index = random.randint(0, 15)\n",
    "        color += (symbols[index])\n",
    "    return color"
   ]
  },
  {
   "cell_type": "markdown",
   "metadata": {
    "collapsed": true
   },
   "source": [
    "3. Сгенерируйте выборку $X_1, ..., X_{100}$ из стандартного нормального распределения. По- стройте и визуализируйте точный доверительный интервал уровня доверия $\\alpha$ = 0.95 для\n",
    "\n",
    "(a) a при известном σ2,\n",
    "\n",
    "(b) $σ^2$ при известном a,\n",
    "\n",
    "(c) a при неизвестном $σ^2$,\n",
    "\n",
    "(d) $σ^2$ при неизвестном a,\n",
    "\n",
    "(e) доверительную область для (a, $σ^2$).\n",
    "\n",
    "Сделайте выводы."
   ]
  },
  {
   "cell_type": "markdown",
   "metadata": {},
   "source": [
    "Берем такую центральную статистику $\\frac{\\sum{X_i} - an}{\\sigma\\sqrt n} \\sim N(0, 1)$ Стандартное нормальное"
   ]
  },
  {
   "cell_type": "markdown",
   "metadata": {},
   "source": [
    "Тогда $P(z_{\\frac{1 - \\alpha}{2}} < \\frac{\\sum{X_i} - an}{\\sigma\\sqrt n} < z_{\\frac{1 + \\alpha}{2}}) = \\alpha$, где $z_{\\alpha} - \\alpha$ квантиль стандартного нормального распределения\n",
    "Преобразуем данное тождество\n",
    "\n",
    "$(\\frac{\\sum{X_{i}} - \\sigma * \\sqrt{n} * z_{\\frac{1 + \\alpha}{2}}}{n} < a < \\frac{\\sum{X_{i}} - \\sigma * \\sqrt{n} * z_{\\frac{1 - \\alpha}{2}}}{n} )$"
   ]
  },
  {
   "cell_type": "code",
   "execution_count": 102,
   "metadata": {
    "collapsed": true
   },
   "outputs": [],
   "source": [
    "def a_sigma_known(selection, alpha, sigma):\n",
    "    summa = np.sum(selection)\n",
    "    first_quantile = scipy.stats.norm.ppf((1. - alpha) / 2.)\n",
    "    second_quantile = scipy.stats.norm.ppf((1. + alpha) / 2.)\n",
    "    print first_quantile, second_quantile\n",
    "    return ((summa - sigma * np.sqrt(len(selection)) * second_quantile) / float(len(selection)) ,\\\n",
    "            (summa - sigma * np.sqrt(len(selection)) * first_quantile) / float(len(selection)) )"
   ]
  },
  {
   "cell_type": "markdown",
   "metadata": {},
   "source": [
    "ДЛя построения интервала для сигма квадрат при известном а делаем так: \n",
    "вычев матожидание получим нормальную с нулевым матожиданием, а нам надо сделать стандартную, т.е. поделим на кореньиз дисперсии. Получаем сумму n квадратов стандартных нормальных , а она распределена как $\\chi^2$ с n степенями свободы\n",
    "\n",
    "$\\frac{1}{\\sigma^2}\\sum(X_i - a)^2 \\sim \\chi^2(n) \\to P(\\frac{1}{\\sigma^2}\\sum(X_i - a)^2 > z_{1 - \\alpha}) = \\alpha$, где $z_{1 - \\alpha}$ -- квантиль уровня $(1 - \\alpha)$ распределения хи-квадрат с $n$ степенями свободы\n",
    "\n",
    "$P(0 < \\sigma^2 < \\frac{\\sum(X_i - a)^2}{z_{1 - \\alpha}}) = \\alpha$ Получили тточный интервал"
   ]
  },
  {
   "cell_type": "code",
   "execution_count": 251,
   "metadata": {
    "collapsed": false
   },
   "outputs": [],
   "source": [
    "def sigma_a_known(selection, alpha, a):\n",
    "    summa = np.sum((selection - a) ** 2)\n",
    "    quantile = scipy.stats.chi2.ppf((1. - alpha), len(selection))\n",
    "    print summa\n",
    "    return ( 0   ,\\\n",
    "             (summa / (float(quantile))))  "
   ]
  },
  {
   "cell_type": "markdown",
   "metadata": {},
   "source": [
    "Cледующие 2 пункта разбирались на лекции в качестве примера использования линейной регрессии при построении точных доверительных интервалов:"
   ]
  },
  {
   "cell_type": "markdown",
   "metadata": {},
   "source": [
    "$\n",
    "X_1 ... X_n \\sim N(a, \\sigma^2)$\n",
    "\n",
    "$L = (a,a,a...a)^T$\n",
    "\n",
    "$Z = (1,1,1...1)^T$\n",
    "\n",
    "$\\hat{\\theta}  = (Z^T \\cdot Z)^{-1} \\cdot Z^T \\cdot X = \\overline{X}$\n",
    "Тогда по следсвиям(использ в доверительных интервалах) из теоремы об ортоганальном разложении\n",
    "<ul>\n",
    "    <li>$P(0 < \\sigma^2 < \\frac{n S^2}{z_{1 - \\alpha}}) = \\alpha$, где $z_{1 - \\alpha}$ - квантиль $\\chi^2$ распределения с n - 1 степенью свободы</li>\n",
    "    <li>$P(\\overline{X} - \\sqrt{\\frac{S^2}{n - 1}} * z_{\\frac{1 + \\alpha}{2}} < a < \\overline{X} + \\sqrt{\\frac{S^2}{n - 1}} * z_{\\frac{1 + \\alpha}{2}}) = \\alpha$, где $z_{\\alpha}$ - квантиль распределения Стьюдента с n - 1 степенью свободы</li>\n",
    "</ul>"
   ]
  },
  {
   "cell_type": "markdown",
   "metadata": {},
   "source": [
    "a , когда $\\sigma$ не известно"
   ]
  },
  {
   "cell_type": "code",
   "execution_count": 269,
   "metadata": {
    "collapsed": true
   },
   "outputs": [],
   "source": [
    "def a_sigma_unknown(selection, alpha):\n",
    "    mean = selection.mean()\n",
    "    selection_variance = (selection ** 2).mean() - selection.mean()\n",
    "    quantile = scipy.stats.t.ppf((1. + alpha) / 2., len(selection) - 1)\n",
    "    return ( (mean - np.sqrt(selection_variance / float(len(selection) - 1)) *  quantile)  ,\\\n",
    "             (mean + np.sqrt(selection_variance / float(len(selection) - 1)) *  quantile)   )"
   ]
  },
  {
   "cell_type": "code",
   "execution_count": 270,
   "metadata": {
    "collapsed": true
   },
   "outputs": [],
   "source": [
    "def sigma_a_unknown(selection, alpha):\n",
    "    selection_variance = (selection ** 2).mean() - selection.mean()\n",
    "    quantile = scipy.stats.chi2.ppf(1. - alpha, len(selection) - 1)\n",
    "    return ( 0 ,\\\n",
    "           (len(selection) * selection_variance) / float(quantile))"
   ]
  },
  {
   "cell_type": "code",
   "execution_count": 7,
   "metadata": {
    "collapsed": false
   },
   "outputs": [
    {
     "ename": "IndentationError",
     "evalue": "expected an indented block (<ipython-input-7-4ccc7be219c4>, line 2)",
     "output_type": "error",
     "traceback": [
      "\u001b[0;36m  File \u001b[0;32m\"<ipython-input-7-4ccc7be219c4>\"\u001b[0;36m, line \u001b[0;32m2\u001b[0m\n\u001b[0;31m    \u001b[0m\n\u001b[0m    ^\u001b[0m\n\u001b[0;31mIndentationError\u001b[0m\u001b[0;31m:\u001b[0m expected an indented block\n"
     ]
    }
   ],
   "source": [
    "def normal_region():\n",
    "    "
   ]
  },
  {
   "cell_type": "markdown",
   "metadata": {},
   "source": [
    "# DRAWER"
   ]
  },
  {
   "cell_type": "code",
   "execution_count": 281,
   "metadata": {
    "collapsed": true
   },
   "outputs": [],
   "source": [
    "def eval_interval(distribution, confidence_level, interval_function, parameter = np.inf):\n",
    "    sample = distribution.rvs(size=100)\n",
    "    if parameter != np.inf:\n",
    "        ans =  interval_function(sample, confidence_level, parameter)\n",
    "    else:\n",
    "        ans =  interval_function(sample, confidence_level)\n",
    "    return ans"
   ]
  },
  {
   "cell_type": "code",
   "execution_count": 308,
   "metadata": {
    "collapsed": false
   },
   "outputs": [
    {
     "name": "stdout",
     "output_type": "stream",
     "text": [
      "-1.95996398454 1.95996398454\n"
     ]
    },
    {
     "data": {
      "text/plain": [
       "(-0.24301943185699859, 0.14897336505101219)"
      ]
     },
     "execution_count": 308,
     "metadata": {},
     "output_type": "execute_result"
    }
   ],
   "source": [
    "first = eval_interval(scipy.stats.norm(), alpha, a_sigma_known, 1)\n",
    "first"
   ]
  },
  {
   "cell_type": "code",
   "execution_count": 309,
   "metadata": {
    "collapsed": false
   },
   "outputs": [
    {
     "name": "stdout",
     "output_type": "stream",
     "text": [
      "83.0841537891\n"
     ]
    },
    {
     "data": {
      "text/plain": [
       "(0, 1.0783661178841504)"
      ]
     },
     "execution_count": 309,
     "metadata": {},
     "output_type": "execute_result"
    }
   ],
   "source": [
    "second = eval_interval(scipy.stats.norm(), alpha, sigma_a_known, 0)\n",
    "second"
   ]
  },
  {
   "cell_type": "code",
   "execution_count": 310,
   "metadata": {
    "collapsed": false
   },
   "outputs": [
    {
     "data": {
      "text/plain": [
       "(-0.28855182213472264, 0.10380711870216636)"
      ]
     },
     "execution_count": 310,
     "metadata": {},
     "output_type": "execute_result"
    }
   ],
   "source": [
    "third = eval_interval(scipy.stats.norm(), alpha, a_sigma_unknown)\n",
    "third"
   ]
  },
  {
   "cell_type": "code",
   "execution_count": 311,
   "metadata": {
    "collapsed": false
   },
   "outputs": [
    {
     "data": {
      "text/plain": [
       "(0, 1.7076493146749459)"
      ]
     },
     "execution_count": 311,
     "metadata": {},
     "output_type": "execute_result"
    }
   ],
   "source": [
    "fourth = eval_interval(scipy.stats.norm(), alpha, sigma_a_unknown)\n",
    "fourth"
   ]
  },
  {
   "cell_type": "markdown",
   "metadata": {},
   "source": [
    "Real a = 0, sigma^2 = 1"
   ]
  },
  {
   "cell_type": "code",
   "execution_count": 323,
   "metadata": {
    "collapsed": true
   },
   "outputs": [],
   "source": [
    "a = np.linspace(first[0], first[1], 1000)\n",
    "b = np.linspace(second[0], second[1], 1000)\n",
    "c = np.linspace(third[0], third[1], 1000)\n",
    "d = np.linspace(fourth[0], fourth[1], 1000)"
   ]
  },
  {
   "cell_type": "code",
   "execution_count": 325,
   "metadata": {
    "collapsed": false
   },
   "outputs": [
    {
     "data": {
      "image/png": "[encoded data removed]",
      "text/plain": [
       "<matplotlib.figure.Figure at 0x1099fe7d0>"
      ]
     },
     "metadata": {},
     "output_type": "display_data"
    }
   ],
   "source": [
    "plt.figure(figsize=(15,5))\n",
    "plt.plot(a, [0.5] * len(a), color=color_generator(), linewidth = 3, label = 'a known sigma')\n",
    "plt.plot(c, [-0.5] * len(c), color=color_generator(), linewidth = 3, label = 'a unknown sigma')\n",
    "plt.legend(bbox_to_anchor=(0., 1.02, 1., .102), loc=3, ncol=2, mode=\"expand\", borderaxespad=0.)\n",
    "plt.show()"
   ]
  },
  {
   "cell_type": "code",
   "execution_count": 327,
   "metadata": {
    "collapsed": false
   },
   "outputs": [
    {
     "data": {
      "text/plain": [
       "<matplotlib.collections.PolyCollection at 0x109adb950>"
      ]
     },
     "execution_count": 327,
     "metadata": {},
     "output_type": "execute_result"
    },
    {
     "data": {
      "image/png": "[encoded data removed]",
      "text/plain": [
       "<matplotlib.figure.Figure at 0x10956bdd0>"
      ]
     },
     "metadata": {},
     "output_type": "display_data"
    }
   ],
   "source": [
    "plt.fill_between(c,d)"
   ]
  },
  {
   "cell_type": "code",
   "execution_count": null,
   "metadata": {
    "collapsed": true
   },
   "outputs": [],
   "source": []
  }
 ],
 "metadata": {
  "kernelspec": {
   "display_name": "Python 2",
   "language": "python",
   "name": "python2"
  },
  "language_info": {
   "codemirror_mode": {
    "name": "ipython",
    "version": 2
   },
   "file_extension": ".py",
   "mimetype": "text/x-python",
   "name": "python",
   "nbconvert_exporter": "python",
   "pygments_lexer": "ipython2",
   "version": "2.7.11"
  }
 },
 "nbformat": 4,
 "nbformat_minor": 0
}
